{
 "cells": [
  {
   "cell_type": "code",
   "execution_count": null,
   "metadata": {},
   "outputs": [],
   "source": [
    "import dotenv\n",
    "import requests\n",
    "import os\n",
    "\n",
    "uwu = os.getenv(\"PUSHBULLET_API_KEY\")\n",
    "uwu"
   ]
  },
  {
   "cell_type": "code",
   "execution_count": null,
   "metadata": {},
   "outputs": [
    {
     "data": {
      "text/plain": [
       "False"
      ]
     },
     "execution_count": 5,
     "metadata": {},
     "output_type": "execute_result"
    }
   ],
   "source": [
    "dotenv.load_dotenv()"
   ]
  },
  {
   "cell_type": "code",
   "execution_count": 20,
   "metadata": {},
   "outputs": [],
   "source": [
    "msg = {\n",
    "    \"type\": \"mirror\",\n",
    "    \"source_user_iden\": \"ujBuM9Ladhs\",\n",
    "    \"source_device_iden\": \"ujBuM9LadhssjB6hGMTY3U\",\n",
    "    \"client_version\": 407,\n",
    "    \"icon\": \"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\",\n",
    "    \"title\": \"Matías Ovalle\",\n",
    "    \"body\": \"Hola\",\n",
    "    \"application_name\": \"WhatsApp\",\n",
    "    \"package_name\": \"com.whatsapp\",\n",
    "    \"notification_id\": \"1\",\n",
    "    \"notification_tag\": \"ok41mYg7KFn/s5QmffvBcjBD5hvpEHWFW/YQ6JsRRxQ=\\n\",\n",
    "}"
   ]
  },
  {
   "cell_type": "code",
   "execution_count": 28,
   "metadata": {},
   "outputs": [],
   "source": [
    "import requests\n",
    "import os\n",
    "\n",
    "headers = {\n",
    "    \"Access-Token\": \"o.fjlX3rOYTkA6fj4yTpSBhkD7COFwdt0K\",\n",
    "    \"Content-Type\": \"application/json\",\n",
    "}\n",
    "\n",
    "\n",
    "def dismiss_push(push: dict):\n",
    "    KEY = \"o.fjlX3rOYTkA6fj4yTpSBhkD7COFwdt0K\"\n",
    "\n",
    "    headers = {\n",
    "        \"Access-Token\": KEY,\n",
    "        \"Content-Type\": \"application/json\",\n",
    "    }\n",
    "\n",
    "    json_data = {\n",
    "        \"push\": {\n",
    "            \"notification_id\": push[\"notification_id\"],\n",
    "            \"notification_tag\": push[\"notification_tag\"],\n",
    "            \"package_name\": push[\"package_name\"],\n",
    "            \"source_user_iden\": push[\"source_user_iden\"],\n",
    "            \"type\": \"dismissal\",\n",
    "        },\n",
    "        \"type\": \"push\",\n",
    "    }\n",
    "    print(json_data)\n",
    "    response = requests.post(\n",
    "        \"https://api.pushbullet.com/v2/ephemerals\", headers=headers, json=json_data\n",
    "    )\n",
    "    print(\"Notification dismiss response status code\", response.status_code)"
   ]
  },
  {
   "cell_type": "code",
   "execution_count": null,
   "metadata": {},
   "outputs": [
    {
     "name": "stdout",
     "output_type": "stream",
     "text": [
      "{'push': {'notification_id': '1', 'notification_tag': 'ok41mYg7KFn/s5QmffvBcjBD5hvpEHWFW/YQ6JsRRxQ=\\n', 'package_name': 'com.whatsapp', 'source_user_iden': 'ujBuM9Ladhs', 'type': 'dismissal'}, 'type': 'push'}\n",
      "Notification dismiss response status code 200\n"
     ]
    }
   ],
   "source": [
    "msg = [\n",
    "    {\n",
    "        \"type\": \"missing\",\n",
    "        \"loc\": (\"source_device_iden\",),\n",
    "        \"msg\": \"Field required\",\n",
    "        \"input\": {\n",
    "            \"notification_id\": \"1526029046\",\n",
    "            \"notification_tag\": \"gig:-781443369:CLASSIC_INBOX_ALL_MAIL\",\n",
    "            \"package_name\": \"com.google.android.gm\",\n",
    "            \"source_user_iden\": \"ujzF5jhZj7A\",\n",
    "            \"type\": \"dismissal\",\n",
    "        },\n",
    "        \"url\": \"https://errors.pydantic.dev/2.10/v/missing\",\n",
    "    },\n",
    "    {\n",
    "        \"type\": \"missing\",\n",
    "        \"loc\": (\"client_version\",),\n",
    "        \"msg\": \"Field required\",\n",
    "        \"input\": {\n",
    "            \"notification_id\": \"1526029046\",\n",
    "            \"notification_tag\": \"gig:-781443369:CLASSIC_INBOX_ALL_MAIL\",\n",
    "            \"package_name\": \"com.google.android.gm\",\n",
    "            \"source_user_iden\": \"ujzF5jhZj7A\",\n",
    "            \"type\": \"dismissal\",\n",
    "        },\n",
    "        \"url\": \"https://errors.pydantic.dev/2.10/v/missing\",\n",
    "    },\n",
    "    {\n",
    "        \"type\": \"missing\",\n",
    "        \"loc\": (\"icon\",),\n",
    "        \"msg\": \"Field required\",\n",
    "        \"input\": {\n",
    "            \"notification_id\": \"1526029046\",\n",
    "            \"notification_tag\": \"gig:-781443369:CLASSIC_INBOX_ALL_MAIL\",\n",
    "            \"package_name\": \"com.google.android.gm\",\n",
    "            \"source_user_iden\": \"ujzF5jhZj7A\",\n",
    "            \"type\": \"dismissal\",\n",
    "        },\n",
    "        \"url\": \"https://errors.pydantic.dev/2.10/v/missing\",\n",
    "    },\n",
    "    {\n",
    "        \"type\": \"missing\",\n",
    "        \"loc\": (\"title\",),\n",
    "        \"msg\": \"Field required\",\n",
    "        \"input\": {\n",
    "            \"notification_id\": \"1526029046\",\n",
    "            \"notification_tag\": \"gig:-781443369:CLASSIC_INBOX_ALL_MAIL\",\n",
    "            \"package_name\": \"com.google.android.gm\",\n",
    "            \"source_user_iden\": \"ujzF5jhZj7A\",\n",
    "            \"type\": \"dismissal\",\n",
    "        },\n",
    "        \"url\": \"https://errors.pydantic.dev/2.10/v/missing\",\n",
    "    },\n",
    "    {\n",
    "        \"type\": \"missing\",\n",
    "        \"loc\": (\"body\",),\n",
    "        \"msg\": \"Field required\",\n",
    "        \"input\": {\n",
    "            \"notification_id\": \"1526029046\",\n",
    "            \"notification_tag\": \"gig:-781443369:CLASSIC_INBOX_ALL_MAIL\",\n",
    "            \"package_name\": \"com.google.android.gm\",\n",
    "            \"source_user_iden\": \"ujzF5jhZj7A\",\n",
    "            \"type\": \"dismissal\",\n",
    "        },\n",
    "        \"url\": \"https://errors.pydantic.dev/2.10/v/missing\",\n",
    "    },\n",
    "    {\n",
    "        \"type\": \"missing\",\n",
    "        \"loc\": (\"application_name\",),\n",
    "        \"msg\": \"Field required\",\n",
    "        \"input\": {\n",
    "            \"notification_id\": \"1526029046\",\n",
    "            \"notification_tag\": \"gig:-781443369:CLASSIC_INBOX_ALL_MAIL\",\n",
    "            \"package_name\": \"com.google.android.gm\",\n",
    "            \"source_user_iden\": \"ujzF5jhZj7A\",\n",
    "            \"type\": \"dismissal\",\n",
    "        },\n",
    "        \"url\": \"https://errors.pydantic.dev/2.10/v/missing\",\n",
    "    },\n",
    "]\n",
    "dismiss_push(msg)"
   ]
  },
  {
   "cell_type": "code",
   "execution_count": 48,
   "metadata": {},
   "outputs": [
    {
     "data": {
      "text/plain": [
       "{'accounts': [],\n",
       " 'blocks': [],\n",
       " 'channels': [],\n",
       " 'chats': [],\n",
       " 'clients': [],\n",
       " 'contacts': [],\n",
       " 'devices': [],\n",
       " 'grants': [],\n",
       " 'pushes': [],\n",
       " 'profiles': [],\n",
       " 'subscriptions': [],\n",
       " 'texts': []}"
      ]
     },
     "execution_count": 48,
     "metadata": {},
     "output_type": "execute_result"
    }
   ],
   "source": [
    "import requests\n",
    "\n",
    "\n",
    "params = {\n",
    "    'active': 'true',\n",
    "    'modified_after': '1.4e+09',\n",
    "}\n",
    "\n",
    "response = requests.get('https://api.pushbullet.com/v2/subscriptions', params=params, headers=headers)\n",
    "response.json()"
   ]
  },
  {
   "cell_type": "code",
   "execution_count": 46,
   "metadata": {},
   "outputs": [
    {
     "data": {
      "text/plain": [
       "{'error': {'code': 'invalid_request',\n",
       "  'type': 'invalid_request',\n",
       "  'message': 'Object not found',\n",
       "  'cat': '(^人^)'},\n",
       " 'error_code': 'invalid_request'}"
      ]
     },
     "execution_count": 46,
     "metadata": {},
     "output_type": "execute_result"
    }
   ],
   "source": [
    "import requests\n",
    "\n",
    "\n",
    "\n",
    "response = requests.delete('https://api.pushbullet.com/v2/pushes/ujBuM9LadhssjvA9TZQWho', headers=headers)\n",
    "response.json()"
   ]
  },
  {
   "cell_type": "code",
   "execution_count": 35,
   "metadata": {},
   "outputs": [
    {
     "data": {
      "text/plain": [
       "<Response [200]>"
      ]
     },
     "execution_count": 35,
     "metadata": {},
     "output_type": "execute_result"
    }
   ],
   "source": [
    "import requests\n",
    "\n",
    "json_data = {\n",
    "    'push': {\n",
    "        'cat': 'meow',\n",
    "    },\n",
    "    'type': 'push',\n",
    "}\n",
    "\n",
    "response = requests.post('https://api.pushbullet.com/v2/ephemerals', headers=headers, json=json_data)\n",
    "\n",
    "# Note: json_data will not be serialized by requests\n",
    "# exactly as it was in the original request.\n",
    "#data = '{\"push\":{\"cat\":\"meow\"},\"type\":\"push\"}'\n",
    "#response = requests.post('https://api.pushbullet.com/v2/ephemerals', headers=headers, data=data)\n",
    "response"
   ]
  },
  {
   "cell_type": "code",
   "execution_count": 33,
   "metadata": {},
   "outputs": [
    {
     "data": {
      "text/plain": [
       "{'Access-Token': 'o.fjlX3rOYTkA6fj4yTpSBhkD7COFwdt0K',\n",
       " 'Content-Type': 'application/json'}"
      ]
     },
     "execution_count": 33,
     "metadata": {},
     "output_type": "execute_result"
    }
   ],
   "source": [
    "headers"
   ]
  },
  {
   "cell_type": "code",
   "execution_count": null,
   "metadata": {},
   "outputs": [
    {
     "ename": "JSONDecodeError",
     "evalue": "Expecting value: line 2 column 1 (char 1)",
     "output_type": "error",
     "traceback": [
      "\u001b[0;31m---------------------------------------------------------------------------\u001b[0m",
      "\u001b[0;31mJSONDecodeError\u001b[0m                           Traceback (most recent call last)",
      "File \u001b[0;32m~/.pyenv/versions/3.12.4/lib/python3.12/site-packages/requests/models.py:974\u001b[0m, in \u001b[0;36mResponse.json\u001b[0;34m(self, **kwargs)\u001b[0m\n\u001b[1;32m    973\u001b[0m \u001b[38;5;28;01mtry\u001b[39;00m:\n\u001b[0;32m--> 974\u001b[0m     \u001b[38;5;28;01mreturn\u001b[39;00m \u001b[43mcomplexjson\u001b[49m\u001b[38;5;241;43m.\u001b[39;49m\u001b[43mloads\u001b[49m\u001b[43m(\u001b[49m\u001b[38;5;28;43mself\u001b[39;49m\u001b[38;5;241;43m.\u001b[39;49m\u001b[43mtext\u001b[49m\u001b[43m,\u001b[49m\u001b[43m \u001b[49m\u001b[38;5;241;43m*\u001b[39;49m\u001b[38;5;241;43m*\u001b[39;49m\u001b[43mkwargs\u001b[49m\u001b[43m)\u001b[49m\n\u001b[1;32m    975\u001b[0m \u001b[38;5;28;01mexcept\u001b[39;00m JSONDecodeError \u001b[38;5;28;01mas\u001b[39;00m e:\n\u001b[1;32m    976\u001b[0m     \u001b[38;5;66;03m# Catch JSON-related errors and raise as requests.JSONDecodeError\u001b[39;00m\n\u001b[1;32m    977\u001b[0m     \u001b[38;5;66;03m# This aliases json.JSONDecodeError and simplejson.JSONDecodeError\u001b[39;00m\n",
      "File \u001b[0;32m~/.pyenv/versions/3.12.4/lib/python3.12/json/__init__.py:346\u001b[0m, in \u001b[0;36mloads\u001b[0;34m(s, cls, object_hook, parse_float, parse_int, parse_constant, object_pairs_hook, **kw)\u001b[0m\n\u001b[1;32m    343\u001b[0m \u001b[38;5;28;01mif\u001b[39;00m (\u001b[38;5;28mcls\u001b[39m \u001b[38;5;129;01mis\u001b[39;00m \u001b[38;5;28;01mNone\u001b[39;00m \u001b[38;5;129;01mand\u001b[39;00m object_hook \u001b[38;5;129;01mis\u001b[39;00m \u001b[38;5;28;01mNone\u001b[39;00m \u001b[38;5;129;01mand\u001b[39;00m\n\u001b[1;32m    344\u001b[0m         parse_int \u001b[38;5;129;01mis\u001b[39;00m \u001b[38;5;28;01mNone\u001b[39;00m \u001b[38;5;129;01mand\u001b[39;00m parse_float \u001b[38;5;129;01mis\u001b[39;00m \u001b[38;5;28;01mNone\u001b[39;00m \u001b[38;5;129;01mand\u001b[39;00m\n\u001b[1;32m    345\u001b[0m         parse_constant \u001b[38;5;129;01mis\u001b[39;00m \u001b[38;5;28;01mNone\u001b[39;00m \u001b[38;5;129;01mand\u001b[39;00m object_pairs_hook \u001b[38;5;129;01mis\u001b[39;00m \u001b[38;5;28;01mNone\u001b[39;00m \u001b[38;5;129;01mand\u001b[39;00m \u001b[38;5;129;01mnot\u001b[39;00m kw):\n\u001b[0;32m--> 346\u001b[0m     \u001b[38;5;28;01mreturn\u001b[39;00m \u001b[43m_default_decoder\u001b[49m\u001b[38;5;241;43m.\u001b[39;49m\u001b[43mdecode\u001b[49m\u001b[43m(\u001b[49m\u001b[43ms\u001b[49m\u001b[43m)\u001b[49m\n\u001b[1;32m    347\u001b[0m \u001b[38;5;28;01mif\u001b[39;00m \u001b[38;5;28mcls\u001b[39m \u001b[38;5;129;01mis\u001b[39;00m \u001b[38;5;28;01mNone\u001b[39;00m:\n",
      "File \u001b[0;32m~/.pyenv/versions/3.12.4/lib/python3.12/json/decoder.py:337\u001b[0m, in \u001b[0;36mJSONDecoder.decode\u001b[0;34m(self, s, _w)\u001b[0m\n\u001b[1;32m    333\u001b[0m \u001b[38;5;250m\u001b[39m\u001b[38;5;124;03m\"\"\"Return the Python representation of ``s`` (a ``str`` instance\u001b[39;00m\n\u001b[1;32m    334\u001b[0m \u001b[38;5;124;03mcontaining a JSON document).\u001b[39;00m\n\u001b[1;32m    335\u001b[0m \n\u001b[1;32m    336\u001b[0m \u001b[38;5;124;03m\"\"\"\u001b[39;00m\n\u001b[0;32m--> 337\u001b[0m obj, end \u001b[38;5;241m=\u001b[39m \u001b[38;5;28;43mself\u001b[39;49m\u001b[38;5;241;43m.\u001b[39;49m\u001b[43mraw_decode\u001b[49m\u001b[43m(\u001b[49m\u001b[43ms\u001b[49m\u001b[43m,\u001b[49m\u001b[43m \u001b[49m\u001b[43midx\u001b[49m\u001b[38;5;241;43m=\u001b[39;49m\u001b[43m_w\u001b[49m\u001b[43m(\u001b[49m\u001b[43ms\u001b[49m\u001b[43m,\u001b[49m\u001b[43m \u001b[49m\u001b[38;5;241;43m0\u001b[39;49m\u001b[43m)\u001b[49m\u001b[38;5;241;43m.\u001b[39;49m\u001b[43mend\u001b[49m\u001b[43m(\u001b[49m\u001b[43m)\u001b[49m\u001b[43m)\u001b[49m\n\u001b[1;32m    338\u001b[0m end \u001b[38;5;241m=\u001b[39m _w(s, end)\u001b[38;5;241m.\u001b[39mend()\n",
      "File \u001b[0;32m~/.pyenv/versions/3.12.4/lib/python3.12/json/decoder.py:355\u001b[0m, in \u001b[0;36mJSONDecoder.raw_decode\u001b[0;34m(self, s, idx)\u001b[0m\n\u001b[1;32m    354\u001b[0m \u001b[38;5;28;01mexcept\u001b[39;00m \u001b[38;5;167;01mStopIteration\u001b[39;00m \u001b[38;5;28;01mas\u001b[39;00m err:\n\u001b[0;32m--> 355\u001b[0m     \u001b[38;5;28;01mraise\u001b[39;00m JSONDecodeError(\u001b[38;5;124m\"\u001b[39m\u001b[38;5;124mExpecting value\u001b[39m\u001b[38;5;124m\"\u001b[39m, s, err\u001b[38;5;241m.\u001b[39mvalue) \u001b[38;5;28;01mfrom\u001b[39;00m \u001b[38;5;28;01mNone\u001b[39;00m\n\u001b[1;32m    356\u001b[0m \u001b[38;5;28;01mreturn\u001b[39;00m obj, end\n",
      "\u001b[0;31mJSONDecodeError\u001b[0m: Expecting value: line 2 column 1 (char 1)",
      "\nDuring handling of the above exception, another exception occurred:\n",
      "\u001b[0;31mJSONDecodeError\u001b[0m                           Traceback (most recent call last)",
      "Cell \u001b[0;32mIn[31], line 12\u001b[0m\n\u001b[1;32m      1\u001b[0m params \u001b[38;5;241m=\u001b[39m {\n\u001b[1;32m      2\u001b[0m     \u001b[38;5;124m'\u001b[39m\u001b[38;5;124mactive\u001b[39m\u001b[38;5;124m'\u001b[39m: \u001b[38;5;124m'\u001b[39m\u001b[38;5;124mtrue\u001b[39m\u001b[38;5;124m'\u001b[39m,\n\u001b[1;32m      3\u001b[0m     \u001b[38;5;124m'\u001b[39m\u001b[38;5;124mmodified_after\u001b[39m\u001b[38;5;124m'\u001b[39m: \u001b[38;5;124m'\u001b[39m\u001b[38;5;124m1.7e+09\u001b[39m\u001b[38;5;124m'\u001b[39m,\n\u001b[1;32m      4\u001b[0m }\n\u001b[1;32m      7\u001b[0m response \u001b[38;5;241m=\u001b[39m requests\u001b[38;5;241m.\u001b[39mget(\u001b[38;5;124m'\u001b[39m\u001b[38;5;124mhttps://api.pushbullet.com/v2/pushes\u001b[39m\u001b[38;5;124m'\u001b[39m, params\u001b[38;5;241m=\u001b[39mparams, headers\u001b[38;5;241m=\u001b[39mheaders, json\u001b[38;5;241m=\u001b[39m{\n\u001b[1;32m      8\u001b[0m   \u001b[38;5;124m\"\u001b[39m\u001b[38;5;124msubtype\u001b[39m\u001b[38;5;124m\"\u001b[39m: \u001b[38;5;124m\"\u001b[39m\u001b[38;5;124mpush\u001b[39m\u001b[38;5;124m\"\u001b[39m,\n\u001b[1;32m      9\u001b[0m   \u001b[38;5;124m\"\u001b[39m\u001b[38;5;124mtype\u001b[39m\u001b[38;5;124m\"\u001b[39m: \u001b[38;5;124m\"\u001b[39m\u001b[38;5;124mtickle\u001b[39m\u001b[38;5;124m\"\u001b[39m\n\u001b[1;32m     10\u001b[0m })\n\u001b[0;32m---> 12\u001b[0m \u001b[43mresponse\u001b[49m\u001b[38;5;241;43m.\u001b[39;49m\u001b[43mjson\u001b[49m\u001b[43m(\u001b[49m\u001b[43m)\u001b[49m\n",
      "File \u001b[0;32m~/.pyenv/versions/3.12.4/lib/python3.12/site-packages/requests/models.py:978\u001b[0m, in \u001b[0;36mResponse.json\u001b[0;34m(self, **kwargs)\u001b[0m\n\u001b[1;32m    974\u001b[0m     \u001b[38;5;28;01mreturn\u001b[39;00m complexjson\u001b[38;5;241m.\u001b[39mloads(\u001b[38;5;28mself\u001b[39m\u001b[38;5;241m.\u001b[39mtext, \u001b[38;5;241m*\u001b[39m\u001b[38;5;241m*\u001b[39mkwargs)\n\u001b[1;32m    975\u001b[0m \u001b[38;5;28;01mexcept\u001b[39;00m JSONDecodeError \u001b[38;5;28;01mas\u001b[39;00m e:\n\u001b[1;32m    976\u001b[0m     \u001b[38;5;66;03m# Catch JSON-related errors and raise as requests.JSONDecodeError\u001b[39;00m\n\u001b[1;32m    977\u001b[0m     \u001b[38;5;66;03m# This aliases json.JSONDecodeError and simplejson.JSONDecodeError\u001b[39;00m\n\u001b[0;32m--> 978\u001b[0m     \u001b[38;5;28;01mraise\u001b[39;00m RequestsJSONDecodeError(e\u001b[38;5;241m.\u001b[39mmsg, e\u001b[38;5;241m.\u001b[39mdoc, e\u001b[38;5;241m.\u001b[39mpos)\n",
      "\u001b[0;31mJSONDecodeError\u001b[0m: Expecting value: line 2 column 1 (char 1)"
     ]
    }
   ],
   "source": [
    "params = {\n",
    "    \"active\": \"true\",\n",
    "    \"modified_after\": \"1.7e+09\",\n",
    "}\n",
    "\n",
    "\n",
    "response = requests.get(\n",
    "    \"https://api.pushbullet.com/v2/pushes\",\n",
    "    params=params,\n",
    "    headers=headers,\n",
    "    json={\"subtype\": \"push\", \"type\": \"tickle\"},\n",
    ")\n",
    "\n",
    "response.json()"
   ]
  },
  {
   "cell_type": "code",
   "execution_count": null,
   "metadata": {},
   "outputs": [],
   "source": [
    "json = {\"subtype\": \"push\", \"type\": \"tickle\"}"
   ]
  }
 ],
 "metadata": {
  "kernelspec": {
   "display_name": "Python 3",
   "language": "python",
   "name": "python3"
  },
  "language_info": {
   "codemirror_mode": {
    "name": "ipython",
    "version": 3
   },
   "file_extension": ".py",
   "mimetype": "text/x-python",
   "name": "python",
   "nbconvert_exporter": "python",
   "pygments_lexer": "ipython3",
   "version": "3.12.4"
  }
 },
 "nbformat": 4,
 "nbformat_minor": 2
}
